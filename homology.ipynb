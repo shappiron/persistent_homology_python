{
 "cells": [
  {
   "cell_type": "code",
   "execution_count": 657,
   "metadata": {},
   "outputs": [],
   "source": [
    "import numpy as np\n",
    "from numba import jit\n",
    "from matplotlib import pyplot as plt"
   ]
  },
  {
   "cell_type": "markdown",
   "metadata": {},
   "source": [
    "# From scratch"
   ]
  },
  {
   "cell_type": "code",
   "execution_count": 1149,
   "metadata": {},
   "outputs": [
    {
     "data": {
      "image/png": "[encoded data removed]",
      "text/plain": [
       "<Figure size 432x288 with 1 Axes>"
      ]
     },
     "metadata": {
      "needs_background": "light"
     },
     "output_type": "display_data"
    }
   ],
   "source": [
    "import tadasets\n",
    "import scipy as sp\n",
    "\n",
    "np.random.seed(9)\n",
    "X = tadasets.dsphere(n=5, d=1, noise=0.03)\n",
    "\n",
    "plt.scatter(X[:, 0], X[:, 1])\n",
    "for i in range(X.shape[0]):\n",
    "    plt.annotate(str(i), (X[i,0], X[i,1]))\n",
    "plt.axis('equal')\n",
    "plt.show()"
   ]
  },
  {
   "cell_type": "code",
   "execution_count": 1150,
   "metadata": {},
   "outputs": [],
   "source": [
    "from itertools import combinations\n",
    "import itertools\n",
    "from functools import reduce\n",
    "from collections import OrderedDict\n",
    "from copy import deepcopy\n",
    "\n",
    "def tup_comb(el_prev, el):\n",
    "    return el_prev + el\n",
    "\n",
    "D = sp.spatial.distance_matrix(X, X)\n"
   ]
  },
  {
   "cell_type": "code",
   "execution_count": 1151,
   "metadata": {},
   "outputs": [],
   "source": [
    "unique_distances = np.unique(D)\n",
    "max_dimension = 2\n",
    "n = D.shape[0]\n",
    "simplices = [{(s,):0.0 for s in range(n)}]\n",
    "for d in range(max_dimension):\n",
    "    simplices.append({})\n",
    "\n",
    "#Create simplicial complexes\n",
    "n = D.shape[0]\n",
    "for step in unique_distances:\n",
    "    for d in range(max_dimension):\n",
    "        if d == 0:\n",
    "            for i in range(0, n):\n",
    "                for j in range(i+1, n):\n",
    "                    if step >= D[i,j]:\n",
    "                        simplices[1][(i,j)] = D[i,j]\n",
    "        else:\n",
    "            combos = list(combinations(list(simplices[d].keys()), d+2))\n",
    "            for c in combos:\n",
    "                border_set = np.unique(reduce(tup_comb, c))\n",
    "                if (len(border_set) == d+2) and (tuple(border_set) not in simplices[d+1]):\n",
    "                    simplices[d+1][tuple(border_set)] = step"
   ]
  },
  {
   "cell_type": "code",
   "execution_count": 1152,
   "metadata": {},
   "outputs": [],
   "source": [
    "simplices_list = list(itertools.chain.from_iterable([list(d.items()) for d in simplices]))\n",
    "sorted_simplices_list = sorted(simplices_list, key = lambda x: (x[1], len(x[0]), x[0]))\n",
    "simplices_indices = {s[0]:i for i,s in enumerate(sorted_simplices_list)}"
   ]
  },
  {
   "cell_type": "code",
   "execution_count": 1153,
   "metadata": {
    "scrolled": true
   },
   "outputs": [
    {
     "data": {
      "text/plain": [
       "{(0,): 0,\n",
       " (1,): 1,\n",
       " (2,): 2,\n",
       " (3,): 3,\n",
       " (4,): 4,\n",
       " (2, 4): 5,\n",
       " (1, 3): 6,\n",
       " (0, 4): 7,\n",
       " (2, 3): 8,\n",
       " (0, 2): 9,\n",
       " (0, 2, 4): 10,\n",
       " (3, 4): 11,\n",
       " (2, 3, 4): 12,\n",
       " (1, 2): 13,\n",
       " (1, 2, 3): 14,\n",
       " (1, 4): 15,\n",
       " (1, 2, 4): 16,\n",
       " (1, 3, 4): 17,\n",
       " (0, 3): 18,\n",
       " (0, 2, 3): 19,\n",
       " (0, 3, 4): 20,\n",
       " (0, 1): 21,\n",
       " (0, 1, 2): 22,\n",
       " (0, 1, 3): 23,\n",
       " (0, 1, 4): 24}"
      ]
     },
     "execution_count": 1153,
     "metadata": {},
     "output_type": "execute_result"
    }
   ],
   "source": [
    "simplices_indices"
   ]
  },
  {
   "cell_type": "code",
   "execution_count": 1154,
   "metadata": {},
   "outputs": [],
   "source": [
    "#construct boundary matrix\n",
    "boundary_matrix_d = sum([len(simplices[d]) for d in range(max_dimension + 1)])\n",
    "boundary_matrix = np.zeros((boundary_matrix_d, boundary_matrix_d), dtype=np.int)\n",
    "\n",
    "for j, simp in enumerate(sorted_simplices_list):\n",
    "    if len(simp[0]) == 1:\n",
    "        continue\n",
    "    else:\n",
    "        d = len(simp[0])\n",
    "        combos = list(combinations(simp[0], d-1))\n",
    "        for c in combos:\n",
    "            boundary_matrix[simplices_indices[c], j] = 1\n",
    "        "
   ]
  },
  {
   "cell_type": "code",
   "execution_count": 1155,
   "metadata": {},
   "outputs": [
    {
     "data": {
      "text/plain": [
       "<matplotlib.image.AxesImage at 0x7fa3cc737710>"
      ]
     },
     "execution_count": 1155,
     "metadata": {},
     "output_type": "execute_result"
    },
    {
     "data": {
      "image/png": "[encoded data removed]",
      "text/plain": [
       "<Figure size 432x288 with 1 Axes>"
      ]
     },
     "metadata": {
      "needs_background": "light"
     },
     "output_type": "display_data"
    }
   ],
   "source": [
    "plt.spy(boundary_matrix)"
   ]
  },
  {
   "cell_type": "code",
   "execution_count": 1156,
   "metadata": {},
   "outputs": [],
   "source": [
    "def low(vec, ind):\n",
    "    while ind != -1:\n",
    "        if vec[ind] == 1:\n",
    "            return ind\n",
    "        else:\n",
    "            ind -= 1\n",
    "    return None\n",
    "\n",
    "def reduce_matrix(boundary_matrix):\n",
    "    R = deepcopy(boundary_matrix)\n",
    "    for j in range(R.shape[1]):\n",
    "        j_low = low(R[:,j], j)\n",
    "        if j_low is not None:\n",
    "            all_k = np.ones(j, dtype=np.bool)\n",
    "            while all_k.any() and (j_low is not None):\n",
    "                for k in range(j):\n",
    "                    k_low = low(R[:,k], k)\n",
    "                    all_k[k] = k_low == j_low\n",
    "                    if (k_low is not None) and (k_low == j_low):\n",
    "                        R[:,j] = np.logical_xor(R[:,j], R[:,k]).astype(np.int)\n",
    "                        j_low = low(R[:,j], j)\n",
    "    return R"
   ]
  },
  {
   "cell_type": "code",
   "execution_count": 1157,
   "metadata": {},
   "outputs": [
    {
     "data": {
      "text/plain": [
       "<matplotlib.image.AxesImage at 0x7fa3ceac5a90>"
      ]
     },
     "execution_count": 1157,
     "metadata": {},
     "output_type": "execute_result"
    },
    {
     "data": {
      "image/png": "[encoded data removed]",
      "text/plain": [
       "<Figure size 432x432 with 1 Axes>"
      ]
     },
     "metadata": {
      "needs_background": "light"
     },
     "output_type": "display_data"
    }
   ],
   "source": [
    "R = reduce_matrix(boundary_matrix)\n",
    "plt.figure(figsize=(6,6))\n",
    "plt.spy(R)"
   ]
  },
  {
   "cell_type": "markdown",
   "metadata": {},
   "source": [
    "$$P:=\\{(i,j)|R_j\\neq0\\wedge i=low(R_j)\\}$$\n",
    "\n",
    "$$E:=\\{i|R_i=0\\wedge low(R_j)\\neq i,\\ \\forall j=1...n\\}$$"
   ]
  },
  {
   "cell_type": "code",
   "execution_count": 1158,
   "metadata": {},
   "outputs": [],
   "source": [
    "#Persistence pairs\n",
    "P = [(i,j) \\\n",
    "     for i in range(R.shape[0]) \\\n",
    "     for j in range(R.shape[1]) \\\n",
    "     if R[:,j].any() and (i == low(R[:,j], j))]\n",
    "\n",
    "#homology classes\n",
    "E = []\n",
    "for i in range(R.shape[0]):\n",
    "    if (np.count_nonzero(R[:,i])==0):\n",
    "        check = []\n",
    "        for j in range(R.shape[1]):\n",
    "            if low(R[:,j], j) is None:\n",
    "                continue\n",
    "            if (i!=low(R[:,j], j)):\n",
    "                check.append(True)\n",
    "            else:\n",
    "                check.append(False)\n",
    "        if all(check):\n",
    "            E.append(i)\n"
   ]
  },
  {
   "cell_type": "code",
   "execution_count": 1159,
   "metadata": {},
   "outputs": [
    {
     "data": {
      "text/plain": [
       "([(1, 8),\n",
       "  (2, 7),\n",
       "  (3, 6),\n",
       "  (4, 5),\n",
       "  (9, 10),\n",
       "  (11, 12),\n",
       "  (13, 14),\n",
       "  (15, 16),\n",
       "  (18, 19),\n",
       "  (21, 22)],\n",
       " [0, 17, 20, 23, 24])"
      ]
     },
     "execution_count": 1159,
     "metadata": {},
     "output_type": "execute_result"
    }
   ],
   "source": [
    "P, E"
   ]
  },
  {
   "cell_type": "code",
   "execution_count": 1160,
   "metadata": {
    "scrolled": true
   },
   "outputs": [
    {
     "data": {
      "text/plain": [
       "[[((1,), 0.0), ((2, 3), 0.5557661041122985)],\n",
       " [((2,), 0.0), ((0, 4), 0.37844849312328477)],\n",
       " [((3,), 0.0), ((1, 3), 0.3550474128251574)],\n",
       " [((4,), 0.0), ((2, 4), 0.2455555060610057)],\n",
       " [((0, 2), 0.6118300989785405), ((0, 2, 4), 0.6118300989785405)],\n",
       " [((3, 4), 0.789532557429629), ((2, 3, 4), 0.789532557429629)],\n",
       " [((1, 2), 0.8919743067970652), ((1, 2, 3), 0.8919743067970652)],\n",
       " [((1, 4), 1.1102864600566849), ((1, 2, 4), 1.1102864600566849)],\n",
       " [((0, 3), 1.112225155892092), ((0, 2, 3), 1.112225155892092)],\n",
       " [((0, 1), 1.3945692702597325), ((0, 1, 2), 1.3945692702597325)]]"
      ]
     },
     "execution_count": 1160,
     "metadata": {},
     "output_type": "execute_result"
    }
   ],
   "source": [
    "homologies = [[sorted_simplices_list[p[0]], sorted_simplices_list[p[1]]] for p in P]\n",
    "homologies"
   ]
  },
  {
   "cell_type": "code",
   "execution_count": 814,
   "metadata": {},
   "outputs": [],
   "source": [
    "import pandas as pd"
   ]
  },
  {
   "cell_type": "code",
   "execution_count": 815,
   "metadata": {},
   "outputs": [
    {
     "data": {
      "image/png": "[encoded data removed]",
      "text/plain": [
       "<Figure size 504x504 with 1 Axes>"
      ]
     },
     "metadata": {
      "needs_background": "light"
     },
     "output_type": "display_data"
    }
   ],
   "source": [
    "import pandas as pd\n",
    "df = pd.DataFrame({'Birth': [h[0][1] for h in homologies],\n",
    "                   'Death': [h[1][1] for h in homologies],\n",
    "                   'Dim': [len(h[0][0]) - 1 for h in homologies]})\n",
    "\n",
    "groups = df.groupby('Dim')\n",
    "\n",
    "# Plot\n",
    "fig, ax = plt.subplots(figsize=(7,7))\n",
    "\n",
    "for name, group in groups:\n",
    "    ax.plot(group.Birth, group.Death, marker='o', linestyle='', ms=5, label='Dim ' + str(name))\n",
    "ax.legend()\n",
    "plt.plot([0, df['Birth'].max()],[0,df['Death'].max()], c='grey', ls='--', alpha=0.3)\n",
    "plt.xlabel('Birth', fontsize=14)\n",
    "plt.ylabel('Death', fontsize=14)\n",
    "plt.grid(alpha=0.3)\n",
    "plt.show()"
   ]
  },
  {
   "cell_type": "markdown",
   "metadata": {},
   "source": [
    "## to script"
   ]
  },
  {
   "cell_type": "markdown",
   "metadata": {
    "heading_collapsed": true
   },
   "source": [
    "### experiments"
   ]
  },
  {
   "cell_type": "code",
   "execution_count": 682,
   "metadata": {
    "hidden": true
   },
   "outputs": [
    {
     "name": "stdout",
     "output_type": "stream",
     "text": [
      "5.31 µs ± 55.8 ns per loop (mean ± std. dev. of 7 runs, 100000 loops each)\n"
     ]
    }
   ],
   "source": [
    "%%timeit\n",
    "self_distance_matrix(X)"
   ]
  },
  {
   "cell_type": "code",
   "execution_count": 683,
   "metadata": {
    "hidden": true
   },
   "outputs": [
    {
     "name": "stdout",
     "output_type": "stream",
     "text": [
      "16 µs ± 492 ns per loop (mean ± std. dev. of 7 runs, 100000 loops each)\n"
     ]
    }
   ],
   "source": [
    "%%timeit\n",
    "sp.spatial.distance_matrix(X,X)"
   ]
  },
  {
   "cell_type": "code",
   "execution_count": 1131,
   "metadata": {
    "hidden": true
   },
   "outputs": [
    {
     "name": "stdout",
     "output_type": "stream",
     "text": [
      "0.00037026405334472656\n"
     ]
    }
   ],
   "source": [
    "from time import time\n",
    "a = time()\n",
    "R = deepcopy(boundary_matrix)\n",
    "res1 = reduce_matrix_jit(R)\n",
    "print(time() - a)"
   ]
  },
  {
   "cell_type": "code",
   "execution_count": 1132,
   "metadata": {
    "hidden": true
   },
   "outputs": [
    {
     "name": "stdout",
     "output_type": "stream",
     "text": [
      "0.041411399841308594\n"
     ]
    }
   ],
   "source": [
    "a = time()\n",
    "R = deepcopy(boundary_matrix)\n",
    "res2 = reduce_matrix(R)\n",
    "print(time() - a)"
   ]
  },
  {
   "cell_type": "markdown",
   "metadata": {},
   "source": [
    "### Other"
   ]
  },
  {
   "cell_type": "code",
   "execution_count": 1219,
   "metadata": {},
   "outputs": [
    {
     "data": {
      "image/png": "[encoded data removed]",
      "text/plain": [
       "<Figure size 432x288 with 1 Axes>"
      ]
     },
     "metadata": {
      "needs_background": "light"
     },
     "output_type": "display_data"
    }
   ],
   "source": [
    "import tadasets\n",
    "from matplotlib import pyplot as plt\n",
    "\n",
    "np.random.seed(9)\n",
    "X = tadasets.dsphere(n=12, d=1, noise=0.03)\n",
    "\n",
    "plt.scatter(X[:, 0], X[:, 1])\n",
    "for i in range(X.shape[0]):\n",
    "    plt.annotate(str(i), (X[i,0], X[i,1]))\n",
    "plt.axis('equal')\n",
    "plt.show()"
   ]
  },
  {
   "cell_type": "code",
   "execution_count": 1228,
   "metadata": {},
   "outputs": [
    {
     "name": "stdout",
     "output_type": "stream",
     "text": [
      "Writing homology.py\n"
     ]
    }
   ],
   "source": [
    "%%writefile homology.py\n",
    "#SCRIPT\n",
    "import numpy as np\n",
    "from numba import njit\n",
    "\n",
    "import itertools\n",
    "from itertools import combinations\n",
    "from functools import reduce\n",
    "from copy import deepcopy\n",
    "\n",
    "###FUNCTIONS\n",
    "\n",
    "@njit\n",
    "def self_distance_matrix(X):\n",
    "    n = X.shape[0]\n",
    "    dist_matrix = np.zeros((X.shape[0], X.shape[0]), dtype=np.float32)\n",
    "    for i in range(n):\n",
    "        for j in range(i, n):\n",
    "            d = np.linalg.norm(X[i,:] - X[j,:]) \n",
    "            dist_matrix[i,j] = d\n",
    "            dist_matrix[j,i] = d\n",
    "    return dist_matrix\n",
    "\n",
    "\n",
    "def filtered_complex(D, max_dimension):\n",
    "    unique_distances = np.unique(D)\n",
    "    n = D.shape[0]\n",
    "    simplices = [{(s,):0.0 for s in range(n)}]\n",
    "    for d in range(max_dimension):\n",
    "        simplices.append({})\n",
    "\n",
    "    #Create simplicial complexes\n",
    "    for step in unique_distances:\n",
    "        for d in range(max_dimension):\n",
    "            if d == 0:\n",
    "                for i in range(0, n):\n",
    "                    for j in range(i+1, n):\n",
    "                        if step >= D[i,j]:\n",
    "                            simplices[1][(i,j)] = D[i,j]\n",
    "            else:\n",
    "                combos = list(combinations(list(simplices[d].keys()), d+2))\n",
    "                for c in combos:\n",
    "                    border_set = np.unique(reduce(tup_comb, c))\n",
    "                    if (len(border_set) == d+2) and (tuple(border_set) not in simplices[d+1]):\n",
    "                        simplices[d+1][tuple(border_set)] = step\n",
    "    #Sorting\n",
    "    simplices_list = list(itertools.chain.from_iterable([list(d.items()) for d in simplices]))\n",
    "    sorted_simplices_list = sorted(simplices_list, key = lambda x: (x[1], len(x[0]), x[0]))\n",
    "    simplices_indices = {s[0]:i for i,s in enumerate(sorted_simplices_list)}\n",
    "    \n",
    "    return sorted_simplices_list, simplices_indices\n",
    "\n",
    "\n",
    "def construct_boundary_matrix(sorted_simplices_list, simplices_indices):\n",
    "    boundary_matrix_d = len(sorted_simplices_list)\n",
    "    boundary_matrix = np.zeros((boundary_matrix_d, boundary_matrix_d), dtype=np.int)\n",
    "    for j, simp in enumerate(sorted_simplices_list):\n",
    "        if len(simp[0]) == 1:\n",
    "            continue\n",
    "        else:\n",
    "            d = len(simp[0])\n",
    "            combos = list(combinations(simp[0], d-1))\n",
    "            for c in combos:\n",
    "                boundary_matrix[simplices_indices[c], j] = 1\n",
    "    return boundary_matrix\n",
    "        \n",
    "@njit\n",
    "def low(vec, ind):\n",
    "    while ind != -1:\n",
    "        if vec[ind] == 1:\n",
    "            return ind\n",
    "        else:\n",
    "            ind -= 1\n",
    "    return None\n",
    "\n",
    "@njit\n",
    "def reduce_matrix(R):\n",
    "    for j in range(R.shape[1]):\n",
    "        j_low = low(R[:,j], j)\n",
    "        if j_low is not None:\n",
    "            all_k = np.ones(j)\n",
    "            while all_k.any() and (j_low is not None):\n",
    "                for k in range(j):\n",
    "                    k_low = low(R[:,k], k)\n",
    "                    if (k_low is None) or (j_low is None):\n",
    "                        all_k[k] = False\n",
    "                    else:\n",
    "                        all_k[k] = j_low == k_low\n",
    "            \n",
    "                    if (k_low is not None) and (j_low is not None) and (k_low == j_low):\n",
    "                        R[:,j] = np.logical_xor(R[:,j], R[:,k])\n",
    "                        j_low = low(R[:,j], j)\n",
    "    return R\n",
    "\n",
    "@njit\n",
    "def interpretation(R):\n",
    "    #Persistence pairs and Homology classes\n",
    "    P, E = [], []\n",
    "    for i in range(R.shape[0]):\n",
    "        flag = np.count_nonzero(R[:,i]) == 0\n",
    "        if flag:\n",
    "            check = []\n",
    "        for j in range(R.shape[1]):\n",
    "            if R[:,j].any() and (i == low(R[:,j], j)):\n",
    "                P.append((i,j))\n",
    "\n",
    "            if low(R[:,j], j) is None:\n",
    "                continue\n",
    "            if (i!=low(R[:,j], j)) and flag:\n",
    "                check.append(True)\n",
    "            else:\n",
    "                check.append(False)    \n",
    "        if np.array(check).all():\n",
    "            E.append(i)        \n",
    "    return P, E\n",
    "\n",
    "\n",
    "#MAIN\n",
    "def run(X, max_dimension=2):\n",
    "    assert X.shape[0] > max_dimension, 'Number of points must be greater than maximum simplex dimensionality'\n",
    "    D = self_distance_matrix(X)\n",
    "    sorted_simplices_list, simplices_indices = filtered_complex(D, max_dimension)\n",
    "    boundary_matrix = construct_boundary_matrix(sorted_simplices_list, simplices_indices)\n",
    "    ##deepcopy matrix\n",
    "    R = deepcopy(boundary_matrix)\n",
    "    R = reduce_matrix(R)\n",
    "    P, E = interpretation(R)\n",
    "    homologies = [[sorted_simplices_list[p[0]], sorted_simplices_list[p[1]]] for p in P]\n",
    "    homologies = homologies + [[sorted_simplices_list[e], (None, D.max())] for e in E]\n",
    "    return homologies"
   ]
  },
  {
   "cell_type": "code",
   "execution_count": 1221,
   "metadata": {},
   "outputs": [
    {
     "data": {
      "image/png": "[encoded data removed]",
      "text/plain": [
       "<Figure size 504x504 with 1 Axes>"
      ]
     },
     "metadata": {
      "needs_background": "light"
     },
     "output_type": "display_data"
    }
   ],
   "source": [
    "import pandas as pd\n",
    "homologies = run(X, max_dimension=2)\n",
    "df = pd.DataFrame({'Birth': [h[0][1] for h in homologies],\n",
    "                   'Death': [h[1][1] for h in homologies],\n",
    "                   'Dim': [len(h[0][0]) - 1 for h in homologies]})\n",
    "\n",
    "groups = df.groupby('Dim')\n",
    "\n",
    "# Plot\n",
    "fig, ax = plt.subplots(figsize=(7,7))\n",
    "\n",
    "for name, group in groups:\n",
    "    ax.plot(group.Birth, group.Death, marker='o', linestyle='', ms=5, label='Dim ' + str(name))\n",
    "ax.legend()\n",
    "plt.plot([0, df['Birth'].max()],[0,df['Death'].max()], c='grey', ls='--', alpha=0.3)\n",
    "plt.plot([0, df['Birth'].max()],[df['Death'].max() ,df['Death'].max()], c='blue', ls='--', alpha=0.3)\n",
    "plt.xlabel('Birth', fontsize=14)\n",
    "plt.ylabel('Death', fontsize=14)\n",
    "plt.grid(alpha=0.3)\n",
    "plt.show()\n"
   ]
  },
  {
   "cell_type": "markdown",
   "metadata": {
    "heading_collapsed": true
   },
   "source": [
    "### for future"
   ]
  },
  {
   "cell_type": "code",
   "execution_count": null,
   "metadata": {
    "hidden": true
   },
   "outputs": [],
   "source": [
    "from numba import types\n",
    "from numba.typed import Dict\n",
    "\n",
    "dict_key_type = types.UniTuple(types.intp, max_dimension + 1)\n",
    "@njit\n",
    "def initialize_dict_list(d, key_type):\n",
    "    dict_canvas = Dict.empty(key_type=key_type,\n",
    "                           value_type=types.float32)\n",
    "    simplices = []\n",
    "    for i in range(d + 1):\n",
    "        simplices.append(dict_canvas)\n",
    "    return simplices"
   ]
  },
  {
   "cell_type": "markdown",
   "metadata": {},
   "source": [
    "# Ripser"
   ]
  },
  {
   "cell_type": "code",
   "execution_count": 4,
   "metadata": {},
   "outputs": [],
   "source": [
    "from ripser import ripser\n",
    "from persim import plot_diagrams\n",
    "import tadasets"
   ]
  },
  {
   "cell_type": "code",
   "execution_count": 1222,
   "metadata": {},
   "outputs": [],
   "source": [
    "result = ripser(X, coeff=2, do_cocycles=True, maxdim=3)\n",
    "diagrams = result['dgms']\n",
    "#D = result['dm']"
   ]
  },
  {
   "cell_type": "code",
   "execution_count": 1227,
   "metadata": {},
   "outputs": [
    {
     "data": {
      "image/png": "[encoded data removed]",
      "text/plain": [
       "<Figure size 504x504 with 1 Axes>"
      ]
     },
     "metadata": {
      "needs_background": "light"
     },
     "output_type": "display_data"
    }
   ],
   "source": [
    "plt.figure(figsize=(7,7))\n",
    "plt.scatter(diagrams[0][:,0], diagrams[0][:,1])\n",
    "plt.scatter(diagrams[1][:,0], diagrams[1][:,1])\n",
    "plt.plot([0, df['Birth'].max()],[0,df['Death'].max()], c='grey', ls='--', alpha=0.3)\n",
    "plt.plot([0, df['Birth'].max()],[df['Death'].max() ,df['Death'].max()], c='blue', ls='--', alpha=0.3)\n",
    "plt.grid(alpha=0.3)\n",
    "plt.show()"
   ]
  }
 ],
 "metadata": {
  "kernelspec": {
   "display_name": "Python 3",
   "language": "python",
   "name": "python3"
  },
  "language_info": {
   "codemirror_mode": {
    "name": "ipython",
    "version": 3
   },
   "file_extension": ".py",
   "mimetype": "text/x-python",
   "name": "python",
   "nbconvert_exporter": "python",
   "pygments_lexer": "ipython3",
   "version": "3.7.6"
  },
  "varInspector": {
   "cols": {
    "lenName": 16,
    "lenType": 16,
    "lenVar": 40
   },
   "kernels_config": {
    "python": {
     "delete_cmd_postfix": "",
     "delete_cmd_prefix": "del ",
     "library": "var_list.py",
     "varRefreshCmd": "print(var_dic_list())"
    },
    "r": {
     "delete_cmd_postfix": ") ",
     "delete_cmd_prefix": "rm(",
     "library": "var_list.r",
     "varRefreshCmd": "cat(var_dic_list()) "
    }
   },
   "types_to_exclude": [
    "module",
    "function",
    "builtin_function_or_method",
    "instance",
    "_Feature"
   ],
   "window_display": false
  }
 },
 "nbformat": 4,
 "nbformat_minor": 4
}
